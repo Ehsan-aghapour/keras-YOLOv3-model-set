{
 "cells": [
  {
   "cell_type": "code",
   "execution_count": 14,
   "id": "b6422e22",
   "metadata": {},
   "outputs": [],
   "source": [
    "def decc(name=''):\n",
    "    def dec(f):\n",
    "        def inner():\n",
    "            print(f'hello {name}, you are calling the function')\n",
    "            f()\n",
    "            print('function called')\n",
    "        return inner\n",
    "    return dec"
   ]
  },
  {
   "cell_type": "code",
   "execution_count": 15,
   "id": "02534984",
   "metadata": {},
   "outputs": [],
   "source": [
    "@decc(name='ali')\n",
    "def func():\n",
    "    print('hello')"
   ]
  },
  {
   "cell_type": "code",
   "execution_count": 3,
   "id": "bc9c623e",
   "metadata": {},
   "outputs": [],
   "source": [
    "\n",
    "def func2():\n",
    "    print('bye')"
   ]
  },
  {
   "cell_type": "code",
   "execution_count": 16,
   "id": "e7a30e42",
   "metadata": {},
   "outputs": [
    {
     "name": "stdout",
     "output_type": "stream",
     "text": [
      "hello ali, you are calling the function\n",
      "hello\n",
      "function called\n"
     ]
    }
   ],
   "source": [
    "func()"
   ]
  },
  {
   "cell_type": "code",
   "execution_count": 10,
   "id": "ff99f2b4",
   "metadata": {},
   "outputs": [
    {
     "name": "stdout",
     "output_type": "stream",
     "text": [
      "bye\n"
     ]
    }
   ],
   "source": [
    "func2()"
   ]
  },
  {
   "cell_type": "code",
   "execution_count": null,
   "id": "77f45cd1",
   "metadata": {},
   "outputs": [],
   "source": []
  }
 ],
 "metadata": {
  "kernelspec": {
   "display_name": "Python 3 (ipykernel)",
   "language": "python",
   "name": "python3"
  },
  "language_info": {
   "codemirror_mode": {
    "name": "ipython",
    "version": 3
   },
   "file_extension": ".py",
   "mimetype": "text/x-python",
   "name": "python",
   "nbconvert_exporter": "python",
   "pygments_lexer": "ipython3",
   "version": "3.10.9"
  }
 },
 "nbformat": 4,
 "nbformat_minor": 5
}
